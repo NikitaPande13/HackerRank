{
 "cells": [
  {
   "cell_type": "markdown",
   "id": "9eb03dc8",
   "metadata": {},
   "source": [
    "### Q1.STRING REVERSE Solution of HackerRank Basic Certificate Solution"
   ]
  },
  {
   "cell_type": "code",
   "execution_count": 4,
   "id": "7ba1f96f",
   "metadata": {},
   "outputs": [
    {
     "data": {
      "text/plain": [
       "'pANDE nIKITA'"
      ]
     },
     "execution_count": 4,
     "metadata": {},
     "output_type": "execute_result"
    }
   ],
   "source": [
    "def reverse_words_order_and_swap_cases(sentence):\n",
    "    words = sentence.split()\n",
    "    # Write your code here\n",
    "    words = list(reversed(words))\n",
    "    j= \" \".join(words)\n",
    "    return j.swapcase()\n",
    "reverse_words_order_and_swap_cases(\"Nikita Pande\")"
   ]
  },
  {
   "cell_type": "markdown",
   "id": "2e44de68",
   "metadata": {},
   "source": [
    "### Q2.STRING TRANSFORM Solution of HackerRank Basic Certificate Solution"
   ]
  },
  {
   "cell_type": "code",
   "execution_count": 3,
   "id": "e4cd29a8",
   "metadata": {},
   "outputs": [
    {
     "data": {
      "text/plain": [
       "'a BLUe MOOn'"
      ]
     },
     "execution_count": 3,
     "metadata": {},
     "output_type": "execute_result"
    }
   ],
   "source": [
    "def transformSentence(sentence):\n",
    "    # Write your code here\n",
    "    words=sentence.split()\n",
    "    res=\"\"\n",
    "    for i in words:\n",
    "        res+=i[0]\n",
    "        for j in range(1,len(i)):\n",
    "            if i[j-1].lower()<i[j].lower():\n",
    "                res+=i[j].upper()\n",
    "            elif i[j-1].lower()>i[j].lower():\n",
    "                res+=i[j].lower()\n",
    "            else:\n",
    "                res+=i[j]\n",
    "        res+=\" \"\n",
    "    return res[:-1:]\n",
    "\n",
    "transformSentence(\"a Blue MOON\")"
   ]
  }
 ],
 "metadata": {
  "kernelspec": {
   "display_name": "Python 3 (ipykernel)",
   "language": "python",
   "name": "python3"
  },
  "language_info": {
   "codemirror_mode": {
    "name": "ipython",
    "version": 3
   },
   "file_extension": ".py",
   "mimetype": "text/x-python",
   "name": "python",
   "nbconvert_exporter": "python",
   "pygments_lexer": "ipython3",
   "version": "3.9.7"
  }
 },
 "nbformat": 4,
 "nbformat_minor": 5
}
